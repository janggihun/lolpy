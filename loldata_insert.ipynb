{
 "cells": [
  {
   "cell_type": "code",
   "execution_count": 1,
   "metadata": {},
   "outputs": [],
   "source": [
    "import my_utils as mu\n",
    "from tqdm import tqdm\n",
    "import time\n",
    "tqdm.pandas()"
   ]
  },
  {
   "cell_type": "code",
   "execution_count": 2,
   "metadata": {},
   "outputs": [
    {
     "name": "stderr",
     "output_type": "stream",
     "text": [
      "  0%|          | 0/10000 [00:00<?, ?it/s]"
     ]
    },
    {
     "name": "stdout",
     "output_type": "stream",
     "text": [
      "get summonerId....\n"
     ]
    },
    {
     "name": "stderr",
     "output_type": "stream",
     "text": [
      "100%|██████████| 4/4 [00:02<00:00,  1.93it/s]\n"
     ]
    },
    {
     "name": "stdout",
     "output_type": "stream",
     "text": [
      "get puuId.....\n"
     ]
    },
    {
     "name": "stderr",
     "output_type": "stream",
     "text": [
      "100%|██████████| 4/4 [00:01<00:00,  2.20it/s]\n"
     ]
    },
    {
     "name": "stdout",
     "output_type": "stream",
     "text": [
      "get match_id....\n"
     ]
    },
    {
     "name": "stderr",
     "output_type": "stream",
     "text": [
      "100%|██████████| 4/4 [00:01<00:00,  2.02it/s]\n"
     ]
    },
    {
     "name": "stdout",
     "output_type": "stream",
     "text": [
      "get matches & timeline....\n"
     ]
    },
    {
     "name": "stderr",
     "output_type": "stream",
     "text": [
      "100%|██████████| 12/12 [00:14<00:00,  1.17s/it]\n"
     ]
    },
    {
     "name": "stdout",
     "output_type": "stream",
     "text": [
      "소환사 스텟 생성중.....\n"
     ]
    },
    {
     "name": "stderr",
     "output_type": "stream",
     "text": [
      "100%|██████████| 12/12 [00:00<00:00, 171.82it/s]\n"
     ]
    },
    {
     "name": "stdout",
     "output_type": "stream",
     "text": [
      "8\n",
      "df 제작이 완료되었습니다. 현재 df의 수는 118 입니다\n"
     ]
    },
    {
     "name": "stderr",
     "output_type": "stream",
     "text": [
      "  1%|          | 1/118 [00:00<00:00, 250.87it/s]\n"
     ]
    },
    {
     "name": "stdout",
     "output_type": "stream",
     "text": [
      "(1406, \"Data too long for column 'firstBloodKill' at row 1\")의 원인으로 insert실패\n"
     ]
    }
   ],
   "source": [
    "tier = 'GOLD'\n",
    "for i in tqdm(range(10000)):\n",
    "    try:\n",
    "        raw_data = mu.get_rawdata(tier)\n",
    "        df = mu.get_match_timeline_df(raw_data)\n",
    "        conn = mu.connect_mysql()\n",
    "        df.progress_apply(lambda x : mu.insert_matches_timeline_mysql(x,conn), axis = 1)\n",
    "        conn.commit()\n",
    "        conn.close()\n",
    "        print(f'{i} 번째 완료')\n",
    "        time.sleep(90)\n",
    "    except Exception as e:\n",
    "        print(f'{e}의 원인으로 insert실패')\n",
    "        time.sleep(90)"
   ]
  },
  {
   "cell_type": "code",
   "execution_count": 2,
   "metadata": {},
   "outputs": [],
   "source": [
    "query_mysql = \"\"\"\n",
    "create table lol_datas (tier varchar(10), gameId varchar(30), gameDuration int, gameVersion varchar(40), summonerName varchar(50),\n",
    "summonerLevel int, participantId int, championName varchar(50), champLevel varchar(10), champExperience int,\n",
    "teamPosition varchar(50), teamId int,firstpurchased varchar(10) ,win varchar(50),gameEndedInEarlySurrender varchar(10), firstBloodKill varchar(10),\n",
    "kills int, deaths int, assists int,kda double,\n",
    "totalDamageDealtToChampions int ,totalDamageTaken int,\n",
    "g_10 int, g_15 int,g_20 int,g_25 int)\n",
    "\"\"\"\n",
    "conn = mu.connect_mysql()\n",
    "mu.sql_execute(conn,query_mysql)\n",
    "query_mysql2 = 'ALTER TABLE lol_datas add primary key (gameId,participantId)'\n",
    "mu.sql_execute(conn,query_mysql2)\n",
    "conn.commit()\n",
    "conn.close()"
   ]
  },
  {
   "cell_type": "code",
   "execution_count": 2,
   "metadata": {},
   "outputs": [
    {
     "name": "stdout",
     "output_type": "stream",
     "text": [
      "get summonerId....\n"
     ]
    },
    {
     "name": "stderr",
     "output_type": "stream",
     "text": [
      "100%|██████████| 4/4 [00:02<00:00,  1.86it/s]\n"
     ]
    },
    {
     "name": "stdout",
     "output_type": "stream",
     "text": [
      "get puuId.....\n"
     ]
    },
    {
     "name": "stderr",
     "output_type": "stream",
     "text": [
      "100%|██████████| 4/4 [00:01<00:00,  2.17it/s]\n"
     ]
    },
    {
     "name": "stdout",
     "output_type": "stream",
     "text": [
      "get match_id....\n"
     ]
    },
    {
     "name": "stderr",
     "output_type": "stream",
     "text": [
      "100%|██████████| 4/4 [00:02<00:00,  1.94it/s]\n"
     ]
    },
    {
     "name": "stdout",
     "output_type": "stream",
     "text": [
      "get matches & timeline....\n"
     ]
    },
    {
     "name": "stderr",
     "output_type": "stream",
     "text": [
      "100%|██████████| 12/12 [00:14<00:00,  1.21s/it]\n"
     ]
    },
    {
     "data": {
      "text/html": [
       "<div>\n",
       "<style scoped>\n",
       "    .dataframe tbody tr th:only-of-type {\n",
       "        vertical-align: middle;\n",
       "    }\n",
       "\n",
       "    .dataframe tbody tr th {\n",
       "        vertical-align: top;\n",
       "    }\n",
       "\n",
       "    .dataframe thead th {\n",
       "        text-align: right;\n",
       "    }\n",
       "</style>\n",
       "<table border=\"1\" class=\"dataframe\">\n",
       "  <thead>\n",
       "    <tr style=\"text-align: right;\">\n",
       "      <th></th>\n",
       "      <th>tier</th>\n",
       "      <th>match_id</th>\n",
       "      <th>matches</th>\n",
       "      <th>timelines</th>\n",
       "    </tr>\n",
       "  </thead>\n",
       "  <tbody>\n",
       "    <tr>\n",
       "      <th>0</th>\n",
       "      <td>GOLD</td>\n",
       "      <td>KR_6876853270</td>\n",
       "      <td>{'metadata': {'dataVersion': '2', 'matchId': '...</td>\n",
       "      <td>{'metadata': {'dataVersion': '2', 'matchId': '...</td>\n",
       "    </tr>\n",
       "    <tr>\n",
       "      <th>1</th>\n",
       "      <td>GOLD</td>\n",
       "      <td>KR_6872071355</td>\n",
       "      <td>{'metadata': {'dataVersion': '2', 'matchId': '...</td>\n",
       "      <td>{'metadata': {'dataVersion': '2', 'matchId': '...</td>\n",
       "    </tr>\n",
       "    <tr>\n",
       "      <th>2</th>\n",
       "      <td>GOLD</td>\n",
       "      <td>KR_6773237971</td>\n",
       "      <td>{'metadata': {'dataVersion': '2', 'matchId': '...</td>\n",
       "      <td>{'metadata': {'dataVersion': '2', 'matchId': '...</td>\n",
       "    </tr>\n",
       "    <tr>\n",
       "      <th>3</th>\n",
       "      <td>GOLD</td>\n",
       "      <td>KR_6881635594</td>\n",
       "      <td>{'metadata': {'dataVersion': '2', 'matchId': '...</td>\n",
       "      <td>{'metadata': {'dataVersion': '2', 'matchId': '...</td>\n",
       "    </tr>\n",
       "    <tr>\n",
       "      <th>4</th>\n",
       "      <td>GOLD</td>\n",
       "      <td>KR_6881546892</td>\n",
       "      <td>{'metadata': {'dataVersion': '2', 'matchId': '...</td>\n",
       "      <td>{'metadata': {'dataVersion': '2', 'matchId': '...</td>\n",
       "    </tr>\n",
       "    <tr>\n",
       "      <th>5</th>\n",
       "      <td>GOLD</td>\n",
       "      <td>KR_6877634838</td>\n",
       "      <td>{'metadata': {'dataVersion': '2', 'matchId': '...</td>\n",
       "      <td>{'metadata': {'dataVersion': '2', 'matchId': '...</td>\n",
       "    </tr>\n",
       "    <tr>\n",
       "      <th>6</th>\n",
       "      <td>GOLD</td>\n",
       "      <td>KR_6862084212</td>\n",
       "      <td>{'metadata': {'dataVersion': '2', 'matchId': '...</td>\n",
       "      <td>{'metadata': {'dataVersion': '2', 'matchId': '...</td>\n",
       "    </tr>\n",
       "    <tr>\n",
       "      <th>7</th>\n",
       "      <td>GOLD</td>\n",
       "      <td>KR_6862020784</td>\n",
       "      <td>{'metadata': {'dataVersion': '2', 'matchId': '...</td>\n",
       "      <td>{'metadata': {'dataVersion': '2', 'matchId': '...</td>\n",
       "    </tr>\n",
       "    <tr>\n",
       "      <th>8</th>\n",
       "      <td>GOLD</td>\n",
       "      <td>KR_6860658165</td>\n",
       "      <td>{'metadata': {'dataVersion': '2', 'matchId': '...</td>\n",
       "      <td>{'metadata': {'dataVersion': '2', 'matchId': '...</td>\n",
       "    </tr>\n",
       "    <tr>\n",
       "      <th>9</th>\n",
       "      <td>GOLD</td>\n",
       "      <td>KR_6878918254</td>\n",
       "      <td>{'metadata': {'dataVersion': '2', 'matchId': '...</td>\n",
       "      <td>{'metadata': {'dataVersion': '2', 'matchId': '...</td>\n",
       "    </tr>\n",
       "    <tr>\n",
       "      <th>10</th>\n",
       "      <td>GOLD</td>\n",
       "      <td>KR_6878884501</td>\n",
       "      <td>{'metadata': {'dataVersion': '2', 'matchId': '...</td>\n",
       "      <td>{'metadata': {'dataVersion': '2', 'matchId': '...</td>\n",
       "    </tr>\n",
       "    <tr>\n",
       "      <th>11</th>\n",
       "      <td>GOLD</td>\n",
       "      <td>KR_6877492362</td>\n",
       "      <td>{'metadata': {'dataVersion': '2', 'matchId': '...</td>\n",
       "      <td>{'metadata': {'dataVersion': '2', 'matchId': '...</td>\n",
       "    </tr>\n",
       "  </tbody>\n",
       "</table>\n",
       "</div>"
      ],
      "text/plain": [
       "    tier       match_id                                            matches  \\\n",
       "0   GOLD  KR_6876853270  {'metadata': {'dataVersion': '2', 'matchId': '...   \n",
       "1   GOLD  KR_6872071355  {'metadata': {'dataVersion': '2', 'matchId': '...   \n",
       "2   GOLD  KR_6773237971  {'metadata': {'dataVersion': '2', 'matchId': '...   \n",
       "3   GOLD  KR_6881635594  {'metadata': {'dataVersion': '2', 'matchId': '...   \n",
       "4   GOLD  KR_6881546892  {'metadata': {'dataVersion': '2', 'matchId': '...   \n",
       "5   GOLD  KR_6877634838  {'metadata': {'dataVersion': '2', 'matchId': '...   \n",
       "6   GOLD  KR_6862084212  {'metadata': {'dataVersion': '2', 'matchId': '...   \n",
       "7   GOLD  KR_6862020784  {'metadata': {'dataVersion': '2', 'matchId': '...   \n",
       "8   GOLD  KR_6860658165  {'metadata': {'dataVersion': '2', 'matchId': '...   \n",
       "9   GOLD  KR_6878918254  {'metadata': {'dataVersion': '2', 'matchId': '...   \n",
       "10  GOLD  KR_6878884501  {'metadata': {'dataVersion': '2', 'matchId': '...   \n",
       "11  GOLD  KR_6877492362  {'metadata': {'dataVersion': '2', 'matchId': '...   \n",
       "\n",
       "                                            timelines  \n",
       "0   {'metadata': {'dataVersion': '2', 'matchId': '...  \n",
       "1   {'metadata': {'dataVersion': '2', 'matchId': '...  \n",
       "2   {'metadata': {'dataVersion': '2', 'matchId': '...  \n",
       "3   {'metadata': {'dataVersion': '2', 'matchId': '...  \n",
       "4   {'metadata': {'dataVersion': '2', 'matchId': '...  \n",
       "5   {'metadata': {'dataVersion': '2', 'matchId': '...  \n",
       "6   {'metadata': {'dataVersion': '2', 'matchId': '...  \n",
       "7   {'metadata': {'dataVersion': '2', 'matchId': '...  \n",
       "8   {'metadata': {'dataVersion': '2', 'matchId': '...  \n",
       "9   {'metadata': {'dataVersion': '2', 'matchId': '...  \n",
       "10  {'metadata': {'dataVersion': '2', 'matchId': '...  \n",
       "11  {'metadata': {'dataVersion': '2', 'matchId': '...  "
      ]
     },
     "execution_count": 2,
     "metadata": {},
     "output_type": "execute_result"
    }
   ],
   "source": [
    "tier = 'GOLD'\n",
    "raw_data = mu.get_rawdata(tier)\n",
    "raw_data"
   ]
  },
  {
   "cell_type": "code",
   "execution_count": 3,
   "metadata": {},
   "outputs": [
    {
     "name": "stdout",
     "output_type": "stream",
     "text": [
      "소환사 스텟 생성중.....\n"
     ]
    },
    {
     "name": "stderr",
     "output_type": "stream",
     "text": [
      "100%|██████████| 12/12 [00:00<00:00, 169.47it/s]"
     ]
    },
    {
     "name": "stdout",
     "output_type": "stream",
     "text": [
      "10\n",
      "df 제작이 완료되었습니다. 현재 df의 수는 108 입니다\n"
     ]
    },
    {
     "name": "stderr",
     "output_type": "stream",
     "text": [
      "\n"
     ]
    },
    {
     "data": {
      "text/html": [
       "<div>\n",
       "<style scoped>\n",
       "    .dataframe tbody tr th:only-of-type {\n",
       "        vertical-align: middle;\n",
       "    }\n",
       "\n",
       "    .dataframe tbody tr th {\n",
       "        vertical-align: top;\n",
       "    }\n",
       "\n",
       "    .dataframe thead th {\n",
       "        text-align: right;\n",
       "    }\n",
       "</style>\n",
       "<table border=\"1\" class=\"dataframe\">\n",
       "  <thead>\n",
       "    <tr style=\"text-align: right;\">\n",
       "      <th></th>\n",
       "      <th>tier</th>\n",
       "      <th>gameId</th>\n",
       "      <th>gameDuration</th>\n",
       "      <th>gameVersion</th>\n",
       "      <th>summonerName</th>\n",
       "      <th>summonerLevel</th>\n",
       "      <th>participantId</th>\n",
       "      <th>championName</th>\n",
       "      <th>champLevel</th>\n",
       "      <th>champExperience</th>\n",
       "      <th>...</th>\n",
       "      <th>kills</th>\n",
       "      <th>deaths</th>\n",
       "      <th>assists</th>\n",
       "      <th>kda</th>\n",
       "      <th>totalDamageDealtToChampions</th>\n",
       "      <th>totalDamageTaken</th>\n",
       "      <th>g_10</th>\n",
       "      <th>g_15</th>\n",
       "      <th>g_20</th>\n",
       "      <th>g_25</th>\n",
       "    </tr>\n",
       "  </thead>\n",
       "  <tbody>\n",
       "    <tr>\n",
       "      <th>0</th>\n",
       "      <td>GOLD</td>\n",
       "      <td>KR_6876853270</td>\n",
       "      <td>1440</td>\n",
       "      <td>13.24.547.9214</td>\n",
       "      <td>Irelliiaa</td>\n",
       "      <td>70</td>\n",
       "      <td>1</td>\n",
       "      <td>Irelia</td>\n",
       "      <td>13</td>\n",
       "      <td>11123</td>\n",
       "      <td>...</td>\n",
       "      <td>4</td>\n",
       "      <td>7</td>\n",
       "      <td>2</td>\n",
       "      <td>0.857143</td>\n",
       "      <td>15536</td>\n",
       "      <td>24445</td>\n",
       "      <td>3278</td>\n",
       "      <td>4903</td>\n",
       "      <td>6702</td>\n",
       "      <td>7736.0</td>\n",
       "    </tr>\n",
       "    <tr>\n",
       "      <th>1</th>\n",
       "      <td>GOLD</td>\n",
       "      <td>KR_6876853270</td>\n",
       "      <td>1440</td>\n",
       "      <td>13.24.547.9214</td>\n",
       "      <td>현지인드립</td>\n",
       "      <td>115</td>\n",
       "      <td>2</td>\n",
       "      <td>XinZhao</td>\n",
       "      <td>11</td>\n",
       "      <td>8067</td>\n",
       "      <td>...</td>\n",
       "      <td>3</td>\n",
       "      <td>11</td>\n",
       "      <td>3</td>\n",
       "      <td>0.545455</td>\n",
       "      <td>12723</td>\n",
       "      <td>31315</td>\n",
       "      <td>3829</td>\n",
       "      <td>5573</td>\n",
       "      <td>6838</td>\n",
       "      <td>7689.0</td>\n",
       "    </tr>\n",
       "    <tr>\n",
       "      <th>2</th>\n",
       "      <td>GOLD</td>\n",
       "      <td>KR_6876853270</td>\n",
       "      <td>1440</td>\n",
       "      <td>13.24.547.9214</td>\n",
       "      <td>랄 로 노 예</td>\n",
       "      <td>182</td>\n",
       "      <td>3</td>\n",
       "      <td>Gangplank</td>\n",
       "      <td>13</td>\n",
       "      <td>11086</td>\n",
       "      <td>...</td>\n",
       "      <td>3</td>\n",
       "      <td>9</td>\n",
       "      <td>4</td>\n",
       "      <td>0.777778</td>\n",
       "      <td>14118</td>\n",
       "      <td>22100</td>\n",
       "      <td>2915</td>\n",
       "      <td>6070</td>\n",
       "      <td>7699</td>\n",
       "      <td>9670.0</td>\n",
       "    </tr>\n",
       "    <tr>\n",
       "      <th>3</th>\n",
       "      <td>GOLD</td>\n",
       "      <td>KR_6876853270</td>\n",
       "      <td>1440</td>\n",
       "      <td>13.24.547.9214</td>\n",
       "      <td>좀힘드네</td>\n",
       "      <td>189</td>\n",
       "      <td>4</td>\n",
       "      <td>Vayne</td>\n",
       "      <td>12</td>\n",
       "      <td>8917</td>\n",
       "      <td>...</td>\n",
       "      <td>6</td>\n",
       "      <td>7</td>\n",
       "      <td>2</td>\n",
       "      <td>1.142857</td>\n",
       "      <td>11900</td>\n",
       "      <td>18208</td>\n",
       "      <td>3727</td>\n",
       "      <td>5836</td>\n",
       "      <td>7932</td>\n",
       "      <td>9322.0</td>\n",
       "    </tr>\n",
       "    <tr>\n",
       "      <th>4</th>\n",
       "      <td>GOLD</td>\n",
       "      <td>KR_6876853270</td>\n",
       "      <td>1440</td>\n",
       "      <td>13.24.547.9214</td>\n",
       "      <td>오르랑</td>\n",
       "      <td>196</td>\n",
       "      <td>5</td>\n",
       "      <td>Rumble</td>\n",
       "      <td>10</td>\n",
       "      <td>6904</td>\n",
       "      <td>...</td>\n",
       "      <td>2</td>\n",
       "      <td>9</td>\n",
       "      <td>6</td>\n",
       "      <td>0.888889</td>\n",
       "      <td>11841</td>\n",
       "      <td>17471</td>\n",
       "      <td>2517</td>\n",
       "      <td>4052</td>\n",
       "      <td>6113</td>\n",
       "      <td>6699.0</td>\n",
       "    </tr>\n",
       "    <tr>\n",
       "      <th>...</th>\n",
       "      <td>...</td>\n",
       "      <td>...</td>\n",
       "      <td>...</td>\n",
       "      <td>...</td>\n",
       "      <td>...</td>\n",
       "      <td>...</td>\n",
       "      <td>...</td>\n",
       "      <td>...</td>\n",
       "      <td>...</td>\n",
       "      <td>...</td>\n",
       "      <td>...</td>\n",
       "      <td>...</td>\n",
       "      <td>...</td>\n",
       "      <td>...</td>\n",
       "      <td>...</td>\n",
       "      <td>...</td>\n",
       "      <td>...</td>\n",
       "      <td>...</td>\n",
       "      <td>...</td>\n",
       "      <td>...</td>\n",
       "      <td>...</td>\n",
       "    </tr>\n",
       "    <tr>\n",
       "      <th>103</th>\n",
       "      <td>GOLD</td>\n",
       "      <td>KR_6877492362</td>\n",
       "      <td>1674</td>\n",
       "      <td>13.24.547.9214</td>\n",
       "      <td>llllIIllllIIllI</td>\n",
       "      <td>187</td>\n",
       "      <td>6</td>\n",
       "      <td>Syndra</td>\n",
       "      <td>16</td>\n",
       "      <td>15509</td>\n",
       "      <td>...</td>\n",
       "      <td>2</td>\n",
       "      <td>5</td>\n",
       "      <td>1</td>\n",
       "      <td>0.600000</td>\n",
       "      <td>16367</td>\n",
       "      <td>11290</td>\n",
       "      <td>3130</td>\n",
       "      <td>5123</td>\n",
       "      <td>7468</td>\n",
       "      <td>9509.0</td>\n",
       "    </tr>\n",
       "    <tr>\n",
       "      <th>104</th>\n",
       "      <td>GOLD</td>\n",
       "      <td>KR_6877492362</td>\n",
       "      <td>1674</td>\n",
       "      <td>13.24.547.9214</td>\n",
       "      <td>암흑의 카직스</td>\n",
       "      <td>122</td>\n",
       "      <td>7</td>\n",
       "      <td>Khazix</td>\n",
       "      <td>14</td>\n",
       "      <td>12947</td>\n",
       "      <td>...</td>\n",
       "      <td>5</td>\n",
       "      <td>4</td>\n",
       "      <td>7</td>\n",
       "      <td>3.000000</td>\n",
       "      <td>8963</td>\n",
       "      <td>28855</td>\n",
       "      <td>3290</td>\n",
       "      <td>5107</td>\n",
       "      <td>8065</td>\n",
       "      <td>10693.0</td>\n",
       "    </tr>\n",
       "    <tr>\n",
       "      <th>105</th>\n",
       "      <td>GOLD</td>\n",
       "      <td>KR_6877492362</td>\n",
       "      <td>1674</td>\n",
       "      <td>13.24.547.9214</td>\n",
       "      <td>엄살쟁이 김정남</td>\n",
       "      <td>98</td>\n",
       "      <td>8</td>\n",
       "      <td>Zed</td>\n",
       "      <td>18</td>\n",
       "      <td>19254</td>\n",
       "      <td>...</td>\n",
       "      <td>21</td>\n",
       "      <td>1</td>\n",
       "      <td>5</td>\n",
       "      <td>26.000000</td>\n",
       "      <td>43326</td>\n",
       "      <td>23708</td>\n",
       "      <td>4789</td>\n",
       "      <td>7476</td>\n",
       "      <td>11271</td>\n",
       "      <td>14286.0</td>\n",
       "    </tr>\n",
       "    <tr>\n",
       "      <th>106</th>\n",
       "      <td>GOLD</td>\n",
       "      <td>KR_6877492362</td>\n",
       "      <td>1674</td>\n",
       "      <td>13.24.547.9214</td>\n",
       "      <td>영권킹</td>\n",
       "      <td>339</td>\n",
       "      <td>9</td>\n",
       "      <td>Vayne</td>\n",
       "      <td>16</td>\n",
       "      <td>15109</td>\n",
       "      <td>...</td>\n",
       "      <td>2</td>\n",
       "      <td>2</td>\n",
       "      <td>8</td>\n",
       "      <td>5.000000</td>\n",
       "      <td>7371</td>\n",
       "      <td>15360</td>\n",
       "      <td>2789</td>\n",
       "      <td>4333</td>\n",
       "      <td>7043</td>\n",
       "      <td>9313.0</td>\n",
       "    </tr>\n",
       "    <tr>\n",
       "      <th>107</th>\n",
       "      <td>GOLD</td>\n",
       "      <td>KR_6877492362</td>\n",
       "      <td>1674</td>\n",
       "      <td>13.24.547.9214</td>\n",
       "      <td>자연의친구니코</td>\n",
       "      <td>259</td>\n",
       "      <td>10</td>\n",
       "      <td>Neeko</td>\n",
       "      <td>13</td>\n",
       "      <td>10559</td>\n",
       "      <td>...</td>\n",
       "      <td>4</td>\n",
       "      <td>3</td>\n",
       "      <td>11</td>\n",
       "      <td>5.000000</td>\n",
       "      <td>14036</td>\n",
       "      <td>10607</td>\n",
       "      <td>3059</td>\n",
       "      <td>4130</td>\n",
       "      <td>5954</td>\n",
       "      <td>7630.0</td>\n",
       "    </tr>\n",
       "  </tbody>\n",
       "</table>\n",
       "<p>108 rows × 25 columns</p>\n",
       "</div>"
      ],
      "text/plain": [
       "     tier         gameId  gameDuration     gameVersion     summonerName  \\\n",
       "0    GOLD  KR_6876853270          1440  13.24.547.9214        Irelliiaa   \n",
       "1    GOLD  KR_6876853270          1440  13.24.547.9214            현지인드립   \n",
       "2    GOLD  KR_6876853270          1440  13.24.547.9214          랄 로 노 예   \n",
       "3    GOLD  KR_6876853270          1440  13.24.547.9214             좀힘드네   \n",
       "4    GOLD  KR_6876853270          1440  13.24.547.9214              오르랑   \n",
       "..    ...            ...           ...             ...              ...   \n",
       "103  GOLD  KR_6877492362          1674  13.24.547.9214  llllIIllllIIllI   \n",
       "104  GOLD  KR_6877492362          1674  13.24.547.9214          암흑의 카직스   \n",
       "105  GOLD  KR_6877492362          1674  13.24.547.9214         엄살쟁이 김정남   \n",
       "106  GOLD  KR_6877492362          1674  13.24.547.9214              영권킹   \n",
       "107  GOLD  KR_6877492362          1674  13.24.547.9214          자연의친구니코   \n",
       "\n",
       "     summonerLevel  participantId championName  champLevel  champExperience  \\\n",
       "0               70              1       Irelia          13            11123   \n",
       "1              115              2      XinZhao          11             8067   \n",
       "2              182              3    Gangplank          13            11086   \n",
       "3              189              4        Vayne          12             8917   \n",
       "4              196              5       Rumble          10             6904   \n",
       "..             ...            ...          ...         ...              ...   \n",
       "103            187              6       Syndra          16            15509   \n",
       "104            122              7       Khazix          14            12947   \n",
       "105             98              8          Zed          18            19254   \n",
       "106            339              9        Vayne          16            15109   \n",
       "107            259             10        Neeko          13            10559   \n",
       "\n",
       "     ... kills  deaths  assists        kda  totalDamageDealtToChampions  \\\n",
       "0    ...     4       7        2   0.857143                        15536   \n",
       "1    ...     3      11        3   0.545455                        12723   \n",
       "2    ...     3       9        4   0.777778                        14118   \n",
       "3    ...     6       7        2   1.142857                        11900   \n",
       "4    ...     2       9        6   0.888889                        11841   \n",
       "..   ...   ...     ...      ...        ...                          ...   \n",
       "103  ...     2       5        1   0.600000                        16367   \n",
       "104  ...     5       4        7   3.000000                         8963   \n",
       "105  ...    21       1        5  26.000000                        43326   \n",
       "106  ...     2       2        8   5.000000                         7371   \n",
       "107  ...     4       3       11   5.000000                        14036   \n",
       "\n",
       "     totalDamageTaken  g_10  g_15   g_20     g_25  \n",
       "0               24445  3278  4903   6702   7736.0  \n",
       "1               31315  3829  5573   6838   7689.0  \n",
       "2               22100  2915  6070   7699   9670.0  \n",
       "3               18208  3727  5836   7932   9322.0  \n",
       "4               17471  2517  4052   6113   6699.0  \n",
       "..                ...   ...   ...    ...      ...  \n",
       "103             11290  3130  5123   7468   9509.0  \n",
       "104             28855  3290  5107   8065  10693.0  \n",
       "105             23708  4789  7476  11271  14286.0  \n",
       "106             15360  2789  4333   7043   9313.0  \n",
       "107             10607  3059  4130   5954   7630.0  \n",
       "\n",
       "[108 rows x 25 columns]"
      ]
     },
     "execution_count": 3,
     "metadata": {},
     "output_type": "execute_result"
    }
   ],
   "source": [
    "df = mu.get_match_timeline_df(raw_data)\n",
    "df"
   ]
  },
  {
   "cell_type": "code",
   "execution_count": 4,
   "metadata": {},
   "outputs": [
    {
     "data": {
      "text/plain": [
       "tier                                                      GOLD\n",
       "match_id                                         KR_6876853270\n",
       "matches      {'metadata': {'dataVersion': '2', 'matchId': '...\n",
       "timelines    {'metadata': {'dataVersion': '2', 'matchId': '...\n",
       "Name: 0, dtype: object"
      ]
     },
     "execution_count": 4,
     "metadata": {},
     "output_type": "execute_result"
    }
   ],
   "source": [
    "raw_data.iloc[0]"
   ]
  },
  {
   "cell_type": "code",
   "execution_count": 5,
   "metadata": {},
   "outputs": [
    {
     "data": {
      "text/plain": [
       "9"
      ]
     },
     "execution_count": 5,
     "metadata": {},
     "output_type": "execute_result"
    }
   ],
   "source": [
    "raw_data.iloc[0].timelines['info']['frames'][1]['events'][0]['participantId']"
   ]
  },
  {
   "cell_type": "code",
   "execution_count": 8,
   "metadata": {},
   "outputs": [
    {
     "ename": "IndexError",
     "evalue": "list index out of range",
     "output_type": "error",
     "traceback": [
      "\u001b[1;31m---------------------------------------------------------------------------\u001b[0m",
      "\u001b[1;31mIndexError\u001b[0m                                Traceback (most recent call last)",
      "Cell \u001b[1;32mIn[8], line 1\u001b[0m\n\u001b[1;32m----> 1\u001b[0m \u001b[43mraw_data\u001b[49m\u001b[38;5;241;43m.\u001b[39;49m\u001b[43miloc\u001b[49m\u001b[43m[\u001b[49m\u001b[38;5;241;43m0\u001b[39;49m\u001b[43m]\u001b[49m\u001b[38;5;241;43m.\u001b[39;49m\u001b[43mtimelines\u001b[49m\u001b[43m[\u001b[49m\u001b[38;5;124;43m'\u001b[39;49m\u001b[38;5;124;43minfo\u001b[39;49m\u001b[38;5;124;43m'\u001b[39;49m\u001b[43m]\u001b[49m\u001b[43m[\u001b[49m\u001b[38;5;124;43m'\u001b[39;49m\u001b[38;5;124;43mframes\u001b[39;49m\u001b[38;5;124;43m'\u001b[39;49m\u001b[43m]\u001b[49m\u001b[43m[\u001b[49m\u001b[38;5;241;43m30\u001b[39;49m\u001b[43m]\u001b[49m[\u001b[38;5;124m'\u001b[39m\u001b[38;5;124mparticipantFrames\u001b[39m\u001b[38;5;124m'\u001b[39m][\u001b[38;5;28mstr\u001b[39m(\u001b[38;5;241m1\u001b[39m)][\u001b[38;5;124m'\u001b[39m\u001b[38;5;124mtotalGold\u001b[39m\u001b[38;5;124m'\u001b[39m]\n",
      "\u001b[1;31mIndexError\u001b[0m: list index out of range"
     ]
    }
   ],
   "source": [
    "raw_data.iloc[0].timelines['info']['frames'][30]['participantFrames'][str(1)]['totalGold']"
   ]
  },
  {
   "cell_type": "code",
   "execution_count": null,
   "metadata": {},
   "outputs": [],
   "source": []
  },
  {
   "cell_type": "code",
   "execution_count": null,
   "metadata": {},
   "outputs": [],
   "source": []
  },
  {
   "cell_type": "code",
   "execution_count": null,
   "metadata": {},
   "outputs": [],
   "source": []
  },
  {
   "cell_type": "code",
   "execution_count": null,
   "metadata": {},
   "outputs": [],
   "source": []
  },
  {
   "cell_type": "code",
   "execution_count": null,
   "metadata": {},
   "outputs": [],
   "source": []
  },
  {
   "cell_type": "code",
   "execution_count": null,
   "metadata": {},
   "outputs": [],
   "source": []
  }
 ],
 "metadata": {
  "kernelspec": {
   "display_name": "Python 3",
   "language": "python",
   "name": "python3"
  },
  "language_info": {
   "codemirror_mode": {
    "name": "ipython",
    "version": 3
   },
   "file_extension": ".py",
   "mimetype": "text/x-python",
   "name": "python",
   "nbconvert_exporter": "python",
   "pygments_lexer": "ipython3",
   "version": "3.11.7"
  }
 },
 "nbformat": 4,
 "nbformat_minor": 2
}
